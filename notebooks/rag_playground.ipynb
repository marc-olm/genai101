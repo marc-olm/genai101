{
 "cells": [
  {
   "cell_type": "markdown",
   "id": "e92cb6e6-a6a9-49e8-be04-a41c819e4a54",
   "metadata": {},
   "source": [
    "# Your first RAG application"
   ]
  },
  {
   "cell_type": "code",
   "execution_count": 2,
   "id": "fa7caa13-e543-42d0-91b9-0901bf7c1088",
   "metadata": {},
   "outputs": [],
   "source": [
    "import pandas as pd\n",
    "import numpy as np "
   ]
  },
  {
   "cell_type": "code",
   "execution_count": 3,
   "id": "1f00d537-ab31-4af3-b053-07cca3b0ac61",
   "metadata": {},
   "outputs": [
    {
     "name": "stdout",
     "output_type": "stream",
     "text": [
      "NAME              ID              SIZE      MODIFIED     \n",
      "mistral:latest    f974a74358d6    4.1 GB    24 hours ago    \n"
     ]
    }
   ],
   "source": [
    "!ollama list "
   ]
  },
  {
   "cell_type": "code",
   "execution_count": 5,
   "id": "7960e1c5-620d-4121-9ef7-76b52d65a902",
   "metadata": {},
   "outputs": [],
   "source": [
    "query = \"How old is Julen Haggs\"\n",
    "doc   = \"The place of birth of Julen Haggs is Reykjavyk\"\n",
    "\n",
    "template = f\"\"\"You are an expert in geography. Your task is to reply to customer questions. Your source of truth are only the documents provided, only generate answers that come from the documents. \n",
    "    \n",
    "     user query: {query} \n",
    "     documents: Use only the following document to answer the question: DOCUMENT START: {doc} END DOCUMENT\n",
    "     \"\"\""
   ]
  },
  {
   "cell_type": "code",
   "execution_count": 6,
   "id": "99e32a4b-adaa-4c81-b7a0-19ea58fc1c3b",
   "metadata": {},
   "outputs": [
    {
     "name": "stdout",
     "output_type": "stream",
     "text": [
      " I'm sorry for any inconvenience, but the provided document does not contain information about Julen Haggs' age. It only specifies his place of birth as Reykjavik.\n"
     ]
    }
   ],
   "source": [
    "import requests\n",
    "\n",
    "res = requests.post(\"http://localhost:11434/api/generate\", json={\n",
    "    \"model\": \"mistral\",\n",
    "    \"prompt\": template,\n",
    "    \"stream\": False\n",
    "})\n",
    "\n",
    "print(res.json()[\"response\"])"
   ]
  },
  {
   "cell_type": "code",
   "execution_count": null,
   "id": "acc7cbe3-e05c-4b97-afd5-2ad98b60ffec",
   "metadata": {},
   "outputs": [],
   "source": []
  }
 ],
 "metadata": {
  "kernelspec": {
   "display_name": "Python (genai101)",
   "language": "python",
   "name": "genai101-kernel"
  },
  "language_info": {
   "codemirror_mode": {
    "name": "ipython",
    "version": 3
   },
   "file_extension": ".py",
   "mimetype": "text/x-python",
   "name": "python",
   "nbconvert_exporter": "python",
   "pygments_lexer": "ipython3",
   "version": "3.11.8"
  }
 },
 "nbformat": 4,
 "nbformat_minor": 5
}
